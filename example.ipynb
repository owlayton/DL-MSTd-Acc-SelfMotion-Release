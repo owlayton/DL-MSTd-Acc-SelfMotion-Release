{
 "cells": [
  {
   "cell_type": "markdown",
   "metadata": {},
   "source": [
    "This notebook contains sample code that loads in neural networks optimized on training samples in the TR360 optic flow dataset and computes the accuracy on the test set. This code accompanies the paper:\n",
    "\n",
    "Layton, OW & Steinmetz, ST (2024). Accuracy optimized neural networks do not effectively model optic flow tuning in brain area MSTd. *Frontiers in Neuroscience*.\n",
    "\n",
    "Note: This code assumes that the optic flow datasets and the CNN model available on Hugging Face have been downloaded."
   ]
  },
  {
   "cell_type": "code",
   "execution_count": null,
   "metadata": {},
   "outputs": [],
   "source": [
    "import os\n",
    "import numpy as np\n",
    "import pandas as pd\n",
    "import tensorflow as tf\n",
    "\n",
    "from losses import CircularLoss, MSE\n",
    "from weight_initializers import GlorotUniformNonNegative\n",
    "from acc import mae, mse\n",
    "\n",
    "np.set_printoptions(suppress=True)\n",
    "\n",
    "# Automatically reload external modules\n",
    "%load_ext autoreload\n",
    "%autoreload 2"
   ]
  },
  {
   "cell_type": "markdown",
   "metadata": {},
   "source": [
    "Load in the TR360 dataset (in `.npz` format). The dataset comes in two parts, one for the back plane environment, the other for the ground plane environment.\n",
    "\n",
    "Note: For the MLP, the optic flow features should be flattened before proceeding. For example, the shape of the TR360 test set should be `(3015, 450)`."
   ]
  },
  {
   "cell_type": "code",
   "execution_count": null,
   "metadata": {},
   "outputs": [],
   "source": [
    "# For this example, assumes the .npz files are located in datasets/TR360\n",
    "ds_subfolder = 'datasets'\n",
    "ds_name = 'TR360'\n",
    "ds_path = os.path.join(ds_subfolder, ds_name)\n",
    "\n",
    "# Load in the back plane env\n",
    "ds_back = np.load(os.path.join(ds_path, 'optic_flow_ds_backplane.npz'), allow_pickle=True)\n",
    "ds_back = ds_back['data']\n",
    "# Load in the ground plane env\n",
    "ds_ground = np.load(os.path.join(ds_path, 'optic_flow_ds_groundplane.npz'), allow_pickle=True)\n",
    "ds_ground = ds_ground['data']\n",
    "\n",
    "# Combine the samples into one ndarray\n",
    "ds = np.vstack([ds_back, ds_ground])\n",
    "# There is only one frame/sample, so take it\n",
    "ds = ds[:, 0]\n",
    "N, Iy, Ix, n_chans = ds.shape\n",
    "print(f'Dataset has shape {ds.shape}')\n",
    "\n",
    "# Shuffle the dataset\n",
    "np.random.seed(0)\n",
    "inds = np.arange(N)\n",
    "np.random.shuffle(inds)\n",
    "ds = ds[inds]\n",
    "# The test set is the last 25% of samples (last 3015 samples)\n",
    "ds_test = ds[-3015:]\n",
    "print(f'Test set has shape {ds_test.shape}')"
   ]
  },
  {
   "cell_type": "markdown",
   "metadata": {},
   "source": [
    "Load in TR360 self-motion labels"
   ]
  },
  {
   "cell_type": "code",
   "execution_count": null,
   "metadata": {},
   "outputs": [],
   "source": [
    "# Headers we wish to extract from the labels CSV file\n",
    "labels2load = ['obs_heading_x', 'obs_heading_y', 'obs_rot_x', 'obs_rot_y', 'obs_rot_z', 'obs_rot_r']\n",
    "\n",
    "# Load in back plane labels\n",
    "labels_back = pd.read_csv(os.path.join(ds_path, 'labels_backplane.csv'))\n",
    "# Load in ground plane labels\n",
    "labels_ground = pd.read_csv(os.path.join(ds_path, 'labels_groundplane.csv'))\n",
    "# Join them into one labels Dataframe\n",
    "labels = pd.concat([labels_back, labels_ground], axis=0)\n",
    "\n",
    "# Rotation vector is stored in normalized format. Combine rotation rate with direction.\n",
    "labels.obs_rot_x = labels.obs_rot_r * labels.obs_rot_x\n",
    "labels.obs_rot_y = labels.obs_rot_r * labels.obs_rot_y\n",
    "labels.obs_rot_z = labels.obs_rot_r * labels.obs_rot_z\n",
    "\n",
    "# Extract the labels that the network will predict\n",
    "output_labels = ['obs_heading_x', 'obs_heading_y', 'obs_rot_x', 'obs_rot_y', 'obs_rot_z']\n",
    "labels = labels.loc[:, output_labels]\n",
    "# Shuffle the labels in the same order as samples\n",
    "labels = labels.iloc[inds]\n",
    "# Record each label's mins/max across the training set. Net is trained on normalized labels\n",
    "# so this is needed to recover original scale of net predictions\n",
    "train_label_mins = labels[:-3015].min(axis=0).to_numpy()\n",
    "train_label_maxs = labels[:-3015].max(axis=0).to_numpy()\n",
    "\n",
    "# Get test set labels \n",
    "test_labels = labels.iloc[-3015:]\n",
    "print(f'Test set labels have shape {test_labels.shape}')\n"
   ]
  },
  {
   "cell_type": "markdown",
   "metadata": {},
   "source": [
    "Load in pretrained model in `.keras` format. \"CNN\" model is used for this example. "
   ]
  },
  {
   "cell_type": "code",
   "execution_count": null,
   "metadata": {},
   "outputs": [],
   "source": [
    "# For this example, assumes the .keras file is located in models/cnn\n",
    "model_subfolder = 'models'\n",
    "model = 'cnn'\n",
    "model_filename = 'cnn_TR_15x15_6k_analytic'\n",
    "model_full_path = os.path.join(model_subfolder, model, model_filename)\n",
    "\n",
    "net = tf.keras.models.load_model(filepath=model_full_path + '.keras',\n",
    "                                 custom_objects={'CircularLoss': CircularLoss(exp=1),\n",
    "                                                 'MSE': MSE(exp=2),\n",
    "                                                 'GlorotUniformNonNegative': GlorotUniformNonNegative()})\n",
    "print(net.summary())"
   ]
  },
  {
   "cell_type": "markdown",
   "metadata": {},
   "source": [
    "Next, obtain the model predictions on the TR360 test set."
   ]
  },
  {
   "cell_type": "code",
   "execution_count": null,
   "metadata": {},
   "outputs": [],
   "source": [
    "pred_labels_norm = np.hstack(net(ds_test))\n",
    "# Predictions are on normalized scale. Undo and recover original scale of labels\n",
    "pred_labels = (pred_labels_norm + 0.5)*(train_label_maxs-train_label_mins) + train_label_mins"
   ]
  },
  {
   "cell_type": "markdown",
   "metadata": {},
   "source": [
    "Compute the test MAE and MSE"
   ]
  },
  {
   "cell_type": "code",
   "execution_count": null,
   "metadata": {},
   "outputs": [],
   "source": [
    "print('MAE:')\n",
    "print(mae(pred_labels, test_labels, circ_correction=True))\n",
    "print('\\nMSE:')\n",
    "print(mse(pred_labels, test_labels, circ_correction=True))"
   ]
  }
 ],
 "metadata": {
  "kernelspec": {
   "display_name": "tf-latest",
   "language": "python",
   "name": "python3"
  },
  "language_info": {
   "codemirror_mode": {
    "name": "ipython",
    "version": 3
   },
   "file_extension": ".py",
   "mimetype": "text/x-python",
   "name": "python",
   "nbconvert_exporter": "python",
   "pygments_lexer": "ipython3",
   "version": "3.11.4"
  }
 },
 "nbformat": 4,
 "nbformat_minor": 2
}
